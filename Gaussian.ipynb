{
 "cells": [
  {
   "cell_type": "code",
   "execution_count": 44,
   "id": "713ccb45",
   "metadata": {},
   "outputs": [],
   "source": [
    "import numpy as np\n",
    "import pandas as pd\n",
    "from sklearn.model_selection import train_test_split\n",
    "from sklearn.preprocessing import StandardScaler\n",
    "from sklearn.metrics import confusion_matrix,f1_score,precision_score,recall_score"
   ]
  },
  {
   "cell_type": "code",
   "execution_count": 45,
   "id": "531d898d",
   "metadata": {},
   "outputs": [],
   "source": [
    "df = pd.read_csv(\"creditcard.csv\")\n",
    "\n",
    "X = df.drop(\"Class\",axis = 1)\n",
    "Y = df[\"Class\"]\n",
    "X_train,X_test,Y_train,Y_test = train_test_split(X,Y,test_size = 0.3,random_state = 42,stratify=Y)\n",
    "X_normal = X_train[Y_train==0]"
   ]
  },
  {
   "cell_type": "code",
   "execution_count": 46,
   "id": "44b15b4b",
   "metadata": {},
   "outputs": [],
   "source": [
    "scalar = StandardScaler()\n",
    "X_normal_scaled = scalar.fit_transform(X_normal)\n",
    "X_test_scaled = scalar.transform(X_test)"
   ]
  },
  {
   "cell_type": "code",
   "execution_count": 47,
   "id": "10bc36ad",
   "metadata": {},
   "outputs": [],
   "source": [
    "mu = np.mean(X_normal_scaled,axis = 0)\n",
    "sigma = np.cov(X_normal_scaled,rowvar=False,bias = True)\n",
    "\n",
    "inv_Sigma = np.linalg.inv(sigma)\n",
    "det_Sigma = np.linalg.det(sigma)"
   ]
  },
  {
   "cell_type": "code",
   "execution_count": 48,
   "id": "7bfab266",
   "metadata": {},
   "outputs": [],
   "source": [
    "def gaussian_prob(X):\n",
    "    diff = X-mu\n",
    "    exp_term = np.sum(diff @ inv_Sigma * diff, axis = 1)\n",
    "    return np.exp(-0.5*exp_term) / np.sqrt((2*np.pi)**X.shape[1]*det_Sigma)"
   ]
  },
  {
   "cell_type": "code",
   "execution_count": null,
   "id": "bfb6b4f8",
   "metadata": {},
   "outputs": [
    {
     "name": "stdout",
     "output_type": "stream",
     "text": [
      "Percentile 0.01% → F1 Score = 0.0000\n",
      "Percentile 0.05% → F1 Score = 0.0000\n",
      "Percentile 0.1% → F1 Score = 0.0000\n",
      "Percentile 0.2% → F1 Score = 0.4828\n",
      "Percentile 0.3% → F1 Score = 0.4988\n",
      "Percentile 0.5% → F1 Score = 0.3993\n",
      "Percentile 1% → F1 Score = 0.2313\n",
      "\n",
      "✔ Best Threshold Selected: 1.5071071196616182e-169\n",
      "\n",
      "Gaussian Model Final Results:\n",
      "Precision: 0.39299610894941633\n",
      "Recall: 0.6824324324324325\n",
      "F1 Score: 0.49876543209876545\n",
      "\n",
      "Confusion Matrix:\n",
      "[[85139   156]\n",
      " [   47   101]]\n"
     ]
    }
   ],
   "source": [
    "p = gaussian_prob(X_test_scaled)\n",
    "percentiles = [0.01, 0.05, 0.1, 0.2, 0.3, 0.5, 1]\n",
    "best_f1 = -1\n",
    "best_threshold = None\n",
    "\n",
    "for t in percentiles:\n",
    "    threshold = np.percentile(p, t)\n",
    "    pred = (p < threshold).astype(int)\n",
    "    current_f1 = f1_score(Y_test, pred)\n",
    "\n",
    "    print(f\"Percentile {t}% → F1 Score = {current_f1:.4f}\")\n",
    "\n",
    "    if current_f1 > best_f1:\n",
    "        best_f1 = current_f1\n",
    "        best_threshold = threshold\n",
    "\n",
    "print(\"\\n✔ Best Threshold Selected:\", best_threshold)\n",
    "\n",
    "# Final prediction on validation data\n",
    "final_pred = (p < best_threshold).astype(int)\n",
    "\n",
    "# Final Evaluation\n",
    "print(\"\\nGaussian Model Final Results:\")\n",
    "print(\"Precision:\", precision_score(Y_test, final_pred))\n",
    "print(\"Recall:\", recall_score(Y_test, final_pred))\n",
    "print(\"F1 Score:\", f1_score(Y_test, final_pred))\n",
    "\n",
    "print(\"\\nConfusion Matrix:\")\n",
    "print(confusion_matrix(Y_test, final_pred))"
   ]
  }
 ],
 "metadata": {
  "kernelspec": {
   "display_name": "Python 3",
   "language": "python",
   "name": "python3"
  },
  "language_info": {
   "codemirror_mode": {
    "name": "ipython",
    "version": 3
   },
   "file_extension": ".py",
   "mimetype": "text/x-python",
   "name": "python",
   "nbconvert_exporter": "python",
   "pygments_lexer": "ipython3",
   "version": "3.12.3"
  }
 },
 "nbformat": 4,
 "nbformat_minor": 5
}
