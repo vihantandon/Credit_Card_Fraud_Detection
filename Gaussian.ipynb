{
 "cells": [
  {
   "cell_type": "code",
   "execution_count": 27,
   "id": "713ccb45",
   "metadata": {},
   "outputs": [],
   "source": [
    "import numpy as np\n",
    "import pandas as pd\n",
    "from sklearn.preprocessing import StandardScaler\n",
    "from sklearn.metrics import confusion_matrix,f1_score,precision_score,recall_score"
   ]
  },
  {
   "cell_type": "code",
   "execution_count": 28,
   "id": "531d898d",
   "metadata": {},
   "outputs": [],
   "source": [
    "df = pd.read_csv(\"creditcard.csv\")\n",
    "X = df.drop(\"Class\",axis = 1)\n",
    "Y = df[\"Class\"]\n",
    "X_normal = X[Y==0]"
   ]
  },
  {
   "cell_type": "code",
   "execution_count": 29,
   "id": "44b15b4b",
   "metadata": {},
   "outputs": [],
   "source": [
    "scalar = StandardScaler()\n",
    "X_normal_scaled = scalar.fit_transform(X_normal)\n",
    "X_scaled = scalar.fit_transform(X)"
   ]
  },
  {
   "cell_type": "code",
   "execution_count": 30,
   "id": "10bc36ad",
   "metadata": {},
   "outputs": [],
   "source": [
    "mu = np.mean(X_normal_scaled,axis = 0)\n",
    "sigma = np.cov(X_normal_scaled,rowvar=False,bias = True)\n",
    "\n",
    "inv_Sigma = np.linalg.inv(sigma)\n",
    "det_Sigma = np.linalg.det(sigma)"
   ]
  },
  {
   "cell_type": "code",
   "execution_count": 31,
   "id": "7bfab266",
   "metadata": {},
   "outputs": [],
   "source": [
    "def gaussian_prob(X):\n",
    "    diff = X-mu\n",
    "    exp_term = np.sum(diff @ inv_Sigma * diff, axis = 1)\n",
    "    return np.exp(-0.5*exp_term) / np.sqrt((2*np.pi)**X.shape[1]*det_Sigma)"
   ]
  },
  {
   "cell_type": "code",
   "execution_count": 35,
   "id": "bfb6b4f8",
   "metadata": {},
   "outputs": [],
   "source": [
    "p = gaussian_prob(X_scaled)\n",
    "e = np.percentile(p,0.2)\n",
    "gaussian_pred = (p<e).astype(int)"
   ]
  },
  {
   "cell_type": "code",
   "execution_count": 37,
   "id": "82988251",
   "metadata": {},
   "outputs": [
    {
     "name": "stdout",
     "output_type": "stream",
     "text": [
      "\n",
      "Gaussian Model Results:\n",
      "Precision: 0.45964912280701753\n",
      "Recall: 0.532520325203252\n",
      "F1 Score: 0.4934086629001883\n",
      "\n",
      "Confusion Matrix:\n",
      "[[284007    308]\n",
      " [   230    262]]\n"
     ]
    }
   ],
   "source": [
    "print(\"\\nGaussian Model Results:\")\n",
    "print(\"Precision:\", precision_score(Y, gaussian_pred))\n",
    "print(\"Recall:\", recall_score(Y, gaussian_pred))\n",
    "print(\"F1 Score:\", f1_score(Y, gaussian_pred))\n",
    "\n",
    "print(\"\\nConfusion Matrix:\")\n",
    "print(confusion_matrix(Y, gaussian_pred))"
   ]
  }
 ],
 "metadata": {
  "kernelspec": {
   "display_name": "Python 3",
   "language": "python",
   "name": "python3"
  },
  "language_info": {
   "codemirror_mode": {
    "name": "ipython",
    "version": 3
   },
   "file_extension": ".py",
   "mimetype": "text/x-python",
   "name": "python",
   "nbconvert_exporter": "python",
   "pygments_lexer": "ipython3",
   "version": "3.12.3"
  }
 },
 "nbformat": 4,
 "nbformat_minor": 5
}
