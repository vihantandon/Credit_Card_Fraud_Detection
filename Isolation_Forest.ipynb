{
 "cells": [
  {
   "cell_type": "code",
   "execution_count": 1,
   "id": "a378de6e",
   "metadata": {},
   "outputs": [],
   "source": [
    "import numpy as np\n",
    "import pandas as pd\n",
    "from sklearn.model_selection import train_test_split\n",
    "from sklearn.preprocessing import StandardScaler\n",
    "from sklearn.ensemble import IsolationForest\n",
    "from sklearn.metrics import confusion_matrix, precision_score, recall_score, f1_score\n"
   ]
  },
  {
   "cell_type": "code",
   "execution_count": 2,
   "id": "e926cd1c",
   "metadata": {},
   "outputs": [],
   "source": [
    "df = pd.read_csv(\"creditcard.csv\")\n",
    "\n",
    "X = df.drop(\"Class\",axis = 1)\n",
    "Y = df[\"Class\"]\n",
    "X_train,X_test,Y_train,Y_test = train_test_split(X,Y,test_size = 0.3,random_state = 42,stratify=Y)\n",
    "X_normal = X_train[Y_train==0]"
   ]
  },
  {
   "cell_type": "code",
   "execution_count": 3,
   "id": "1e310e5a",
   "metadata": {},
   "outputs": [],
   "source": [
    "scalar = StandardScaler()\n",
    "X_normal_scaled = scalar.fit_transform(X_normal)\n",
    "X_test_scaled = scalar.transform(X_test)"
   ]
  },
  {
   "cell_type": "code",
   "execution_count": 17,
   "id": "68920713",
   "metadata": {},
   "outputs": [],
   "source": [
    "iso = IsolationForest(contamination=0.001,random_state=42)\n",
    "iso.fit(X_normal_scaled)\n",
    "\n",
    "iso_pred = iso.predict(X_test_scaled)\n",
    "iso_pred = np.where(iso_pred == -1, 1, 0)"
   ]
  },
  {
   "cell_type": "code",
   "execution_count": 18,
   "id": "243678af",
   "metadata": {},
   "outputs": [
    {
     "name": "stdout",
     "output_type": "stream",
     "text": [
      "\n",
      "Isolation Forest Results:\n",
      "Precision: 0.27\n",
      "Recall: 0.18243243243243243\n",
      "F1 Score: 0.21774193548387097\n",
      "\n",
      "Confusion Matrix:\n",
      "[[85222    73]\n",
      " [  121    27]]\n"
     ]
    }
   ],
   "source": [
    "print(\"\\nIsolation Forest Results:\")\n",
    "print(\"Precision:\", precision_score(Y_test, iso_pred))\n",
    "print(\"Recall:\", recall_score(Y_test, iso_pred))\n",
    "print(\"F1 Score:\", f1_score(Y_test, iso_pred))\n",
    "\n",
    "print(\"\\nConfusion Matrix:\")\n",
    "print(confusion_matrix(Y_test, iso_pred))"
   ]
  }
 ],
 "metadata": {
  "kernelspec": {
   "display_name": "Python 3",
   "language": "python",
   "name": "python3"
  },
  "language_info": {
   "codemirror_mode": {
    "name": "ipython",
    "version": 3
   },
   "file_extension": ".py",
   "mimetype": "text/x-python",
   "name": "python",
   "nbconvert_exporter": "python",
   "pygments_lexer": "ipython3",
   "version": "3.12.3"
  }
 },
 "nbformat": 4,
 "nbformat_minor": 5
}
